{
 "cells": [
  {
   "cell_type": "code",
   "execution_count": 1,
   "metadata": {},
   "outputs": [
    {
     "name": "stdout",
     "output_type": "stream",
     "text": [
      "13496\n"
     ]
    },
    {
     "data": {
      "text/html": [
       "<div>\n",
       "<style scoped>\n",
       "    .dataframe tbody tr th:only-of-type {\n",
       "        vertical-align: middle;\n",
       "    }\n",
       "\n",
       "    .dataframe tbody tr th {\n",
       "        vertical-align: top;\n",
       "    }\n",
       "\n",
       "    .dataframe thead th {\n",
       "        text-align: right;\n",
       "    }\n",
       "</style>\n",
       "<table border=\"1\" class=\"dataframe\">\n",
       "  <thead>\n",
       "    <tr style=\"text-align: right;\">\n",
       "      <th></th>\n",
       "      <th>Unnamed: 0</th>\n",
       "      <th>Title</th>\n",
       "      <th>Instructions</th>\n",
       "      <th>Image_Name</th>\n",
       "      <th>Cleaned_Ingredients</th>\n",
       "    </tr>\n",
       "  </thead>\n",
       "  <tbody>\n",
       "    <tr>\n",
       "      <th>0</th>\n",
       "      <td>0</td>\n",
       "      <td>Miso-Butter Roast Chicken With Acorn Squash Pa...</td>\n",
       "      <td>[Pat chicken dry with paper towels, season all...</td>\n",
       "      <td>miso-butter-roast-chicken-acorn-squash-panzanella</td>\n",
       "      <td>[1 (3½–4-lb.) whole chicken, 2¾ tsp. kosher sa...</td>\n",
       "    </tr>\n",
       "    <tr>\n",
       "      <th>1</th>\n",
       "      <td>1</td>\n",
       "      <td>Crispy Salt and Pepper Potatoes</td>\n",
       "      <td>[Preheat oven to 400°F and line a rimmed bakin...</td>\n",
       "      <td>crispy-salt-and-pepper-potatoes-dan-kluger</td>\n",
       "      <td>[2 large egg whites, 1 pound new potatoes (abo...</td>\n",
       "    </tr>\n",
       "    <tr>\n",
       "      <th>2</th>\n",
       "      <td>2</td>\n",
       "      <td>Thanksgiving Mac and Cheese</td>\n",
       "      <td>[Place a rack in middle of oven; preheat to 40...</td>\n",
       "      <td>thanksgiving-mac-and-cheese-erick-williams</td>\n",
       "      <td>[1 cup evaporated milk, 1 cup whole milk, 1 ts...</td>\n",
       "    </tr>\n",
       "    <tr>\n",
       "      <th>3</th>\n",
       "      <td>3</td>\n",
       "      <td>Italian Sausage and Bread Stuffing</td>\n",
       "      <td>[Preheat oven to 350°F with rack in middle. Ge...</td>\n",
       "      <td>italian-sausage-and-bread-stuffing-240559</td>\n",
       "      <td>[1 (¾- to 1-pound) round Italian loaf, cut int...</td>\n",
       "    </tr>\n",
       "    <tr>\n",
       "      <th>4</th>\n",
       "      <td>4</td>\n",
       "      <td>Newton's Law</td>\n",
       "      <td>[Stir together brown sugar and hot water in a ...</td>\n",
       "      <td>newtons-law-apple-bourbon-cocktail</td>\n",
       "      <td>[1 teaspoon dark brown sugar, 1 teaspoon hot w...</td>\n",
       "    </tr>\n",
       "  </tbody>\n",
       "</table>\n",
       "</div>"
      ],
      "text/plain": [
       "   Unnamed: 0                                              Title  \\\n",
       "0           0  Miso-Butter Roast Chicken With Acorn Squash Pa...   \n",
       "1           1                    Crispy Salt and Pepper Potatoes   \n",
       "2           2                        Thanksgiving Mac and Cheese   \n",
       "3           3                 Italian Sausage and Bread Stuffing   \n",
       "4           4                                       Newton's Law   \n",
       "\n",
       "                                        Instructions  \\\n",
       "0  [Pat chicken dry with paper towels, season all...   \n",
       "1  [Preheat oven to 400°F and line a rimmed bakin...   \n",
       "2  [Place a rack in middle of oven; preheat to 40...   \n",
       "3  [Preheat oven to 350°F with rack in middle. Ge...   \n",
       "4  [Stir together brown sugar and hot water in a ...   \n",
       "\n",
       "                                          Image_Name  \\\n",
       "0  miso-butter-roast-chicken-acorn-squash-panzanella   \n",
       "1         crispy-salt-and-pepper-potatoes-dan-kluger   \n",
       "2         thanksgiving-mac-and-cheese-erick-williams   \n",
       "3          italian-sausage-and-bread-stuffing-240559   \n",
       "4                 newtons-law-apple-bourbon-cocktail   \n",
       "\n",
       "                                 Cleaned_Ingredients  \n",
       "0  [1 (3½–4-lb.) whole chicken, 2¾ tsp. kosher sa...  \n",
       "1  [2 large egg whites, 1 pound new potatoes (abo...  \n",
       "2  [1 cup evaporated milk, 1 cup whole milk, 1 ts...  \n",
       "3  [1 (¾- to 1-pound) round Italian loaf, cut int...  \n",
       "4  [1 teaspoon dark brown sugar, 1 teaspoon hot w...  "
      ]
     },
     "execution_count": 1,
     "metadata": {},
     "output_type": "execute_result"
    }
   ],
   "source": [
    "import pandas as pd\n",
    "from ast import literal_eval\n",
    "import numpy as np\n",
    "import torch\n",
    "import recipe_encoder as recipe\n",
    "\n",
    "%load_ext autoreload\n",
    "%autoreload 2\n",
    "\n",
    "csv_file = 'archive/updated_data_with_lists.csv'\n",
    "df = pd.read_csv(csv_file, converters={\"Cleaned_Ingredients\": literal_eval, \"Instructions\": literal_eval})\n",
    "print(len(df))\n",
    "df.head()"
   ]
  },
  {
   "cell_type": "code",
   "execution_count": 52,
   "metadata": {},
   "outputs": [
    {
     "name": "stdout",
     "output_type": "stream",
     "text": [
      "Column length 13496\n",
      "['1', '(', '3½–4-lb', '.', ')', 'whole', 'chicken', '2¾', 'tsp', '.']\n",
      "['1', '(', '3½–4-lb', '.', ')', 'whole', 'chicken', '2¾', 'tsp', '.', 'kosher', 'salt', ',', 'divided', ',', 'plus', 'more', '2', 'small', 'acorn', 'squash', '(', 'about', '3', 'lb', '.', 'total', ')', '2', 'Tbsp', '.', 'finely', 'chopped', 'sage', '1', 'Tbsp', '.', 'finely', 'chopped', 'rosemary', '6', 'Tbsp', '.', 'unsalted', 'butter', ',', 'melted', ',', 'plus', '3', 'Tbsp', '.', 'room', 'temperature', '¼', 'tsp', '.', 'ground', 'allspice', 'Pinch', 'of', 'crushed', 'red', 'pepper', 'flakes', 'Freshly', 'ground', 'black', 'pepper', '⅓', 'loaf', 'good-quality', 'sturdy', 'white', 'bread', ',', 'torn', 'into', '1', 'pieces', '(', 'about', '2½', 'cups', ')', '2', 'medium', 'apples', '(', 'such', 'as', 'Gala', 'or', 'Pink', 'Lady;', 'about', '14', 'oz', '.', 'total', ')', ',', 'cored', ',', 'cut', 'into', '1', 'pieces', '2', 'Tbsp', '.', 'extra-virgin', 'olive', 'oil', '½', 'small', 'red', 'onion', ',', 'thinly', 'sliced', '3', 'Tbsp', '.', 'apple', 'cider', 'vinegar', '1', 'Tbsp', '.', 'white', 'miso', '¼', 'cup', 'all-purpose', 'flour', '2', 'Tbsp', '.', 'unsalted', 'butter', ',', 'room', 'temperature', '¼', 'cup', 'dry', 'white', 'wine', '2', 'cups', 'unsalted', 'chicken', 'broth', '2', 'tsp', '.', 'white', 'miso', 'Kosher', 'salt', 'freshly', 'ground', 'pepper']\n",
      "Len Elements: 13496\n",
      "Size: 12676\n",
      "Max: 110\n"
     ]
    }
   ],
   "source": [
    "column = df[\"Cleaned_Ingredients\"]\n",
    "# item_list = [word\n",
    "#                     for w_list in column\n",
    "#                     for str_list in w_list\n",
    "#                     # Make period and comma separate words\n",
    "#                     # # Remove parentheses and quotes\n",
    "#                     for word in str_list.replace('.', ' . ').replace(',',' , ').replace('(','').replace(')','').replace('\"','').split()]\n",
    "\n",
    "item_list = []\n",
    "element_list = []\n",
    "ingr_max = 0\n",
    "print(\"Column length\", len(column))\n",
    "for w_list in column:\n",
    "    tmp =[]\n",
    "    for str_list in w_list:\n",
    "        # for word in str_list:\n",
    "        formatted = str_list.replace('.', ' . ').replace(',',' , ').replace('(',' ( ').replace(')',' ) ').replace('\"','').split()\n",
    "        item_list.extend(formatted)\n",
    "        new_len = len(formatted)\n",
    "        tmp.extend(formatted)\n",
    "        if new_len>ingr_max:\n",
    "            ingr_max=new_len\n",
    "    element_list.append(tmp)\n",
    "\n",
    "print(item_list[:10])\n",
    "print(element_list[0])\n",
    "print(\"Len Elements:\", len(element_list))\n",
    "ingr_vocab = set(item_list)\n",
    "ingr_vocab_size = len(ingr_vocab)\n",
    "print(\"Size:\", ingr_vocab_size)\n",
    "print(\"Max:\", ingr_max)"
   ]
  },
  {
   "cell_type": "code",
   "execution_count": 49,
   "metadata": {},
   "outputs": [
    {
     "data": {
      "text/plain": [
       "['1 (3½–4-lb.) whole chicken',\n",
       " '2¾ tsp. kosher salt, divided, plus more',\n",
       " '2 small acorn squash (about 3 lb. total)',\n",
       " '2 Tbsp. finely chopped sage',\n",
       " '1 Tbsp. finely chopped rosemary',\n",
       " '6 Tbsp. unsalted butter, melted, plus 3 Tbsp. room temperature',\n",
       " '¼ tsp. ground allspice',\n",
       " 'Pinch of crushed red pepper flakes',\n",
       " 'Freshly ground black pepper',\n",
       " '⅓ loaf good-quality sturdy white bread, torn into 1\" pieces (about 2½ cups)',\n",
       " '2 medium apples (such as Gala or Pink Lady; about 14 oz. total), cored, cut into 1\" pieces',\n",
       " '2 Tbsp. extra-virgin olive oil',\n",
       " '½ small red onion, thinly sliced',\n",
       " '3 Tbsp. apple cider vinegar',\n",
       " '1 Tbsp. white miso',\n",
       " '¼ cup all-purpose flour',\n",
       " '2 Tbsp. unsalted butter, room temperature',\n",
       " '¼ cup dry white wine',\n",
       " '2 cups unsalted chicken broth',\n",
       " '2 tsp. white miso',\n",
       " 'Kosher salt',\n",
       " 'freshly ground pepper']"
      ]
     },
     "execution_count": 49,
     "metadata": {},
     "output_type": "execute_result"
    }
   ],
   "source": [
    "df[\"Cleaned_Ingredients\"][0]"
   ]
  },
  {
   "cell_type": "code",
   "execution_count": 28,
   "metadata": {},
   "outputs": [
    {
     "name": "stdout",
     "output_type": "stream",
     "text": [
      "['Pat', 'chicken', 'dry', 'with', 'paper', 'towels', 'season', 'all', 'over', 'with']\n",
      "Size: 21164\n",
      "Max: 247\n"
     ]
    }
   ],
   "source": [
    "column = df[\"Instructions\"]\n",
    "# item_list = [word\n",
    "#                     for w_list in column\n",
    "#                     for str_list in w_list\n",
    "#                     # Make period and comma separate words\n",
    "#                     # # Remove parentheses and quotes\n",
    "#                     for word in str_list.replace('.', ' . ').replace(',',' , ').replace('(','').replace(')','').replace('\"','').split()]\n",
    "\n",
    "item_list = []\n",
    "inst_max = 0\n",
    "for w_list in column:\n",
    "    for str_list in w_list:\n",
    "        # for word in str_list:\n",
    "        formatted = str_list.replace('.', ' . ').replace(',',' , ').replace('(','').replace(')','').replace('\"','').split()\n",
    "        item_list.extend(formatted)\n",
    "        new_len = len(formatted)\n",
    "        if new_len>inst_max:\n",
    "            inst_max=new_len\n",
    "            \n",
    "print(item_list[:10])\n",
    "inst_vocab = set(item_list)\n",
    "inst_vocab_size = len(inst_vocab)\n",
    "print(\"Size:\",inst_vocab_size)\n",
    "print(\"Max:\", inst_max)"
   ]
  },
  {
   "cell_type": "code",
   "execution_count": 29,
   "metadata": {},
   "outputs": [
    {
     "name": "stdout",
     "output_type": "stream",
     "text": [
      "['Miso-Butter', 'Roast', 'Chicken', 'With', 'Acorn', 'Squash', 'Panzanella', 'Crispy', 'Salt', 'and']\n",
      "Size: 6959\n",
      "Max: 21\n"
     ]
    }
   ],
   "source": [
    "column = df[\"Title\"].to_list()\n",
    "# item_list = [word\n",
    "#                 for str_list in column\n",
    "#     #                     # Make period and comma separate words\n",
    "#     #                     # # Remove parentheses and quotes\n",
    "#                 for word in str_list.replace('.', ' . ').replace(',',' , ').replace('(','').replace(')','').replace('\"','').split()\n",
    "#                 if word]\n",
    "\n",
    "item_list = []\n",
    "title_max = 0\n",
    "for str_list in column:\n",
    "        # for word in str_list:\n",
    "        formatted = str_list.replace('.', ' . ').replace(',',' , ').replace('(','').replace(')','').replace('\"','').split()\n",
    "        item_list.extend(formatted)\n",
    "        new_len = len(formatted)\n",
    "        if new_len>title_max:\n",
    "            title_max=new_len\n",
    "\n",
    "print(item_list[:10])\n",
    "title_vocab = set(item_list)\n",
    "title_vocab_size = len(title_vocab)\n",
    "print(\"Size:\", title_vocab_size)\n",
    "print(\"Max:\", title_max)"
   ]
  },
  {
   "cell_type": "code",
   "execution_count": null,
   "metadata": {},
   "outputs": [
    {
     "name": "stdout",
     "output_type": "stream",
     "text": [
      "31611\n",
      "247\n"
     ]
    }
   ],
   "source": [
    "total_vocab = set(list(inst_vocab) + list(ingr_vocab) + list(title_vocab)) \n",
    "total_vocab_size = len(total_vocab)\n",
    "print(\"Size:\"total_vocab_size)\n",
    "total_max = max([inst_max, ingr_max, title_max])\n",
    "print(\"Max:\",total_max)"
   ]
  },
  {
   "cell_type": "code",
   "execution_count": 6,
   "metadata": {},
   "outputs": [],
   "source": [
    "word_to_ix = {word: i for i, word in enumerate(total_vocab)}\n",
    "\n",
    "word_to_ix_ingr = {word: i for i, word in enumerate(ingr_vocab)}\n",
    "word_to_ix_inst = {word: i for i, word in enumerate(inst_vocab)}\n",
    "word_to_ix_title = {word: i for i, word in enumerate(title_vocab)}"
   ]
  },
  {
   "cell_type": "code",
   "execution_count": null,
   "metadata": {},
   "outputs": [],
   "source": [
    "# from torchtext.vocab import vocab\n",
    "\n",
    "# Get longest sentence in Ingredients or Instructions for max_len\n",
    "# Use torchtext to make vocab: vocab_size = input_size"
   ]
  },
  {
   "cell_type": "code",
   "execution_count": 33,
   "metadata": {},
   "outputs": [],
   "source": [
    "def pad_to_value(x, val):\n",
    "    if x.shape[1]>val:\n",
    "        raise ValueError(f\"{x.shape[1]}>{val}\")\n",
    "    diff = val - x.shape[1]\n",
    "    # left, right, top, bottom\n",
    "    pad = (0, diff, 0, 0)\n",
    "    out = torch.nn.functional.pad(x, pad, mode='constant', value=val)\n",
    "    return out"
   ]
  },
  {
   "cell_type": "code",
   "execution_count": 36,
   "metadata": {},
   "outputs": [
    {
     "name": "stdout",
     "output_type": "stream",
     "text": [
      "You are using device: cuda\n",
      "Input shape: torch.Size([2, 247])\n"
     ]
    }
   ],
   "source": [
    "# Test encoder:\n",
    "\n",
    "device = torch.device('cuda' if torch.cuda.is_available() else 'cpu')\n",
    "print(\"You are using device: %s\" % device)\n",
    "\n",
    "\n",
    "# first batch\n",
    "# can input list of np arrays so 0:title, 1:ingr, 2: instr\n",
    "test_input = {\n",
    "    \"Title\": 8,\n",
    "    \"Ingredients\" : 15,\n",
    "    \"Instructions\": 30\n",
    "}\n",
    "\n",
    "src_list = [np.random.rand(2, 8) * 10,\n",
    "            np.random.rand(2, 15) * 10,\n",
    "            np.random.rand(2, 30) * 10\n",
    "            ]\n",
    "x = [ pad_to_value(torch.tensor(t, dtype=torch.long),total_max) for t in src_list]\n",
    "print(\"Input shape:\", x[0].shape)\n",
    "\n"
   ]
  },
  {
   "cell_type": "code",
   "execution_count": 101,
   "metadata": {},
   "outputs": [
    {
     "name": "stdout",
     "output_type": "stream",
     "text": [
      "(tensor([[[ 0.2658,  1.3539,  0.7700,  ...,  0.4657, -0.9124, -0.1474],\n",
      "         [-0.0737,  0.8781,  0.6535,  ...,  0.1308, -1.2758, -0.3397],\n",
      "         [ 0.2541,  1.3343,  0.6570,  ..., -0.0774, -0.6667,  0.4752],\n",
      "         ...,\n",
      "         [-0.1531, -0.5866, -0.0914,  ...,  0.4908,  0.3321, -1.1926],\n",
      "         [-0.0348,  1.0452, -0.5561,  ...,  0.0466, -1.1097, -0.5364],\n",
      "         [ 0.2383,  1.2364,  0.0097,  ...,  0.2167,  0.4428, -1.5630]],\n",
      "\n",
      "        [[ 0.8689,  1.8147,  0.6053,  ...,  0.5281, -1.7276,  0.7030],\n",
      "         [ 0.0838,  1.6466,  1.2441,  ...,  0.3599, -0.7408,  0.7014],\n",
      "         [ 0.7152,  1.2250,  0.2086,  ..., -0.2950, -1.0720,  1.2611],\n",
      "         ...,\n",
      "         [-0.7811, -0.3686, -0.6068,  ...,  0.2117,  0.3426, -0.8245],\n",
      "         [-0.4266,  1.0357, -0.4635,  ..., -0.0814, -0.9650, -0.8747],\n",
      "         [ 0.7665,  0.5211,  0.2267,  ...,  0.4006,  0.4156, -1.7524]]],\n",
      "       grad_fn=<CatBackward0>), tensor([[ 0.8072, -0.2135, -0.6389,  ..., -0.2715, -0.5547, -0.6122],\n",
      "        [ 0.7900, -0.2300, -0.6297,  ..., -0.2620, -0.5593, -0.6130]],\n",
      "       grad_fn=<AddmmBackward0>))\n"
     ]
    }
   ],
   "source": [
    "recipe_encoder = recipe.RecipeEncoder(device=\"cpu\", vocab_size=total_vocab_size,\n",
    "                                      max_len=total_max)\n",
    "outputs = recipe_encoder.forward(x)\n",
    "print(outputs)"
   ]
  },
  {
   "cell_type": "code",
   "execution_count": null,
   "metadata": {},
   "outputs": [],
   "source": []
  }
 ],
 "metadata": {
  "kernelspec": {
   "display_name": "tfood_env",
   "language": "python",
   "name": "python3"
  },
  "language_info": {
   "codemirror_mode": {
    "name": "ipython",
    "version": 3
   },
   "file_extension": ".py",
   "mimetype": "text/x-python",
   "name": "python",
   "nbconvert_exporter": "python",
   "pygments_lexer": "ipython3",
   "version": "3.9.20"
  }
 },
 "nbformat": 4,
 "nbformat_minor": 2
}
